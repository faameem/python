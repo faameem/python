{
 "cells": [
  {
   "cell_type": "code",
   "execution_count": 2,
   "metadata": {
    "collapsed": false
   },
   "outputs": [],
   "source": [
    "import pyodbc"
   ]
  },
  {
   "cell_type": "code",
   "execution_count": 3,
   "metadata": {
    "collapsed": false
   },
   "outputs": [
    {
     "data": {
      "text/plain": [
       "<module 'pyodbc' from 'C:\\\\Program Files\\\\Anaconda3\\\\lib\\\\site-packages\\\\pyodbc.cp35-win_amd64.pyd'>"
      ]
     },
     "execution_count": 3,
     "metadata": {},
     "output_type": "execute_result"
    }
   ],
   "source": [
    "pyodbc"
   ]
  },
  {
   "cell_type": "code",
   "execution_count": 5,
   "metadata": {
    "collapsed": false
   },
   "outputs": [],
   "source": [
    "cnxn=pyodbc.connect(\"DRIVER={ODBC Driver 11 for SQL Server};SERVER=DEVCOMPDB01SQL;Trusted_Connection=yes;DATABASE=eSurveillance\")"
   ]
  },
  {
   "cell_type": "code",
   "execution_count": 6,
   "metadata": {
    "collapsed": true
   },
   "outputs": [],
   "source": [
    "cursor=cnxn.cursor()"
   ]
  },
  {
   "cell_type": "code",
   "execution_count": 7,
   "metadata": {
    "collapsed": false
   },
   "outputs": [
    {
     "data": {
      "text/plain": [
       "<pyodbc.Cursor at 0x46c55d0>"
      ]
     },
     "execution_count": 7,
     "metadata": {},
     "output_type": "execute_result"
    }
   ],
   "source": [
    "cursor.execute(\"SELECT DISTINCT [Value] FROM [eSurveillance].[dbo].[v_WatchList] WHERE [Type] LIKE '%Email%'\")"
   ]
  },
  {
   "cell_type": "code",
   "execution_count": 8,
   "metadata": {
    "collapsed": false
   },
   "outputs": [
    {
     "name": "stdout",
     "output_type": "stream",
     "text": [
      "('AScolaro6@msn.com', )\n",
      "('Aconnors@visiumfunds.Com', )\n",
      "('Adin.Kahn@lighthousepartners.Com', )\n",
      "('Chris.Buonafede@hutchinhill.Com', )\n",
      "('JTurner@ClayCapitalManagement.com', )\n",
      "('Jon.Horvath@sigmacapny.com', )\n",
      "('Msharma@hudsonbaycapital.com', )\n",
      "('Parag.Pande@Blackstone.com', )\n",
      "('ac@levelglobal.com', )\n",
      "('aconnors@onewire.com', )\n",
      "('adam.smith@latonaassociates.com', )\n",
      "('adam.smith@ubs.com', )\n",
      "('adin.kahn@mlp.com', )\n",
      "('aebrahim@comcast.net', )\n",
      "('akahn@mlp.com', )\n",
      "('akahn@schonfeld.com', )\n",
      "('alexandra.stevenson@nytimes.com', )\n",
      "('alix.connors@gmail.com', )\n",
      "('art@pequotcap.com', )\n",
      "('asmith33@bloomberg.net', )\n",
      "('asmith@galleongrp.com', )\n",
      "('asmith@mba1999.hbs.edu', )\n",
      "('asmith@perspectatrust.com', )\n",
      "('asorkin3000@gmail.com', )\n",
      "('barais@bloomberg.net', )\n",
      "('barry.timmins@lighthousepartners.com', )\n",
      "('benjamin.protess@nytimes.com', )\n",
      "('bert@hirg.net', )\n",
      "('bill.callanan@citadel.comboocallanan@gmail.comwilliam.callanan@gmail.combill.callanan@moorecap.com', )\n",
      "('bjorgenson@bloomberg.net', )\n",
      "('blackdw@gmail.com', )\n",
      "('bo@big5am.com', )\n",
      "('bobberlacher@egequities.com', )\n",
      "('boss@kennedy-group.com', )\n",
      "('brett.swenson@citadel.com', )\n",
      "('bruce11@bloomberg.net', )\n",
      "('bucky@gryphonlp.com', )\n",
      "('cb@spherixcapital.com', )\n",
      "('cbuonafede@ozcap.com', )\n",
      "('cgasparino@gmail.com', )\n",
      "('changgeun.choi@hynix.xom', )\n",
      "('changgeun.choi@sk.com', )\n",
      "('chiasson123@gmail.com', )\n",
      "('christopher.buonafede@ozcap.com', )\n",
      "('christopher.hayward@highbridge.com', )\n",
      "('cskowron@bloomberg.net', )\n",
      "('d.roberts@mwam.com', )\n",
      "('dan.mccrum@ft.com', )\n",
      "('dandroberts@bloomberg.net', )\n",
      "('daniel_d_roberts@yahoo.co.uk', )\n",
      "('danielle.greenberg@gs.com', )\n",
      "('davide.pacchini@nokia.com', )\n",
      "('dblack@quadrallc.com', )\n",
      "('dchiesi@bear.com', )\n",
      "('ddricks@bloomberg.net', )\n",
      "('deedee@ricksandray.com', )\n",
      "('deedee@rickscg.com', )\n",
      "('deplate@schottenfeld.com', )\n",
      "('dgreenberg@bamfunds.com', )\n",
      "('dkuo@bear.com', )\n",
      "('dkuo@whittiertrust.com', )\n",
      "('dojolo@hotmail.com', )\n",
      "('don.longueuil@crintrinsic.com', )\n",
      "('donald.longueuil@gmail.com', )\n",
      "('donchu@pg-research.com', )\n",
      "('donlongueuil@bloomberg.net', )\n",
      "('dpost87@bloomberg.net', )\n",
      "('dvenokur@mac.com', )\n",
      "('e.debenedetto@firstny.com', )\n",
      "('eleidinger@40north.com', )\n",
      "('eleidinger@woodbinecapital.com', )\n",
      "('elizabeth.fireman@mlp.com', )\n",
      "('emily.flitter.reuters.com@reuters.net', )\n",
      "('eraderman@jgoldman.net', )\n",
      "('eric.martin@carters.com', )\n",
      "('eric.martin@mellonadvisors.com', )\n",
      "('erik@erikfranklin.com', )\n",
      "('euroraptor@gmail.com', )\n",
      "('fnu.paritosh@mlp.com', )\n",
      "('franzt@healthco.saccapital.com', )\n",
      "('ftudor@galleongrp.com', )\n",
      "('ftudor@namllc.com', )\n",
      "('gabriela.gargano@gmail.com', )\n",
      "('gabriela.gargano@gs.com', )\n",
      "('garmisa@search1.com', )\n",
      "('gbolan@avondalepartnersllc.com', )\n",
      "('gramadv@bloomberg.net', )\n",
      "('gregory.zuckerman@wsj.com', )\n",
      "('hardinthomas@hotmail.com', )\n",
      "('horvaj2@yahoo.com', )\n",
      "('igor.vishnevetsky@lazard.com', )\n",
      "('ilana@theidwgroup.com', )\n",
      "('invshand@gmail.com', )\n",
      "('jball@rockco.com', )\n",
      "('jblake@bamfunds.com', )\n",
      "('jchung@fas.harvard.edu', )\n",
      "('jcontorinis@jefco.com', )\n",
      "('jeffyokuty@hotmail.com', )\n",
      "('jenny.strasburg@wsj.com', )\n",
      "('jessetortora@gmail.com', )\n",
      "('jessye.ball@mlp.com', )\n",
      "('jhorvath@nb.com', )\n",
      "('jlarkin32@bloomberg.net', )\n",
      "('jlarkin@mlp.com', )\n",
      "('jon.horvath@lehman.com', )\n",
      "('jon.ostrower@wsj.com', )\n",
      "('jonathan.larkin@bluecrestcapital.com', )\n",
      "('jonathan.r.larkin@me.com', )\n",
      "('jpflaum@tweisel.com', )\n",
      "('jshields@ubpam.com', )\n",
      "('jt.shields@blackstone.com', )\n",
      "('jtortora@diamondbackcap.com', )\n",
      "('julian.rifat@moorecap.co.uk', )\n",
      "('juliet.chung@wsj.com', )\n",
      "('jyokuty1@bloomberg.net', )\n",
      "('jyokuty@triviumcap.com', )\n",
      "('kara.scannell@ft.com', )\n",
      "('karl.motey@wachovia.com', )\n",
      "('kate.kelly@nbcuni.com', )\n",
      "('kate.shahrestani@ubs.com', )\n",
      "('katya.wachtel@thomsonreuters.com', )\n",
      "('kayla.perez@gs.com', )\n",
      "('kbit@bloomberg.net', )\n",
      "('kbrenner@sterlingrcm.com', )\n",
      "('kburton@bloomberg.net', )\n",
      "('kelly.perkins@lighthousepartners.com', )\n",
      "('kimberly.mhanna@mlp.com', )\n",
      "('ksheelah@gmail.com', )\n",
      "('kwhitehouse@nypost.com', )\n",
      "('lieberman@providentadvisors.com', )\n",
      "('lvaksman@visiumfunds.com', )\n",
      "('maliagros@sewkis.com', )\n",
      "('mark.hansen@citadel.com', )\n",
      "('mark.hansen@citadelaam.com', )\n",
      "('mark.hansen@citadelam.com', )\n",
      "('mark.hansen@citadelgroup.com', )\n",
      "('markmegalli@hotmail.com', )\n",
      "('mat.martoma@gmail.com', )\n",
      "('matthew.giannini@citadelgroup.com', )\n",
      "('matthew.goldstein@nytimes.com', )\n",
      "('mcmartoma@yahoo.com', )\n",
      "('megalli@searockcapital.com', )\n",
      "('melanie.west@wsj.com', )\n",
      "('mgrad1@bloomberg.net', )\n",
      "('mgrad22@hotmail.com', )\n",
      "('mgrad@mlp.com', )\n",
      "('mhansen20@bloomberg.net', )\n",
      "('michael.grad@mlp.com', )\n",
      "('michael.grad@ubs.com', )\n",
      "('michael.pinelli@hutchinhill.com', )\n",
      "('michael.pinelli@ozcap.com', )\n",
      "('michael.rothfeld@wsj.com', )\n",
      "('michael_grad@hotmail.com', )\n",
      "('mike.steinberg@sigmacapny.com', )\n",
      "('mikes9@verizon.net', )\n",
      "('mikes@sigmacapny.com', )\n",
      "('mkurland@bear.com', )\n",
      "('mm@levelglobal.com', )\n",
      "('mmegalli@buckresearch.com', )\n",
      "('mousmi.sharma@hutchinhill.com', )\n",
      "('mousmisharma@gmail.com', )\n",
      "('mph55@hotmail.com', )\n",
      "('msharma@fppartners.com', )\n",
      "('msharma@k2advisors.com', )\n",
      "('msteinberg6@nyc.rr.com', )\n",
      "('nguyent@sig.com', )\n",
      "('nick.verbitsky@unitedstations.com', )\n",
      "('nicos.stephanou@ubs.com', )\n",
      "('noah.freeman@sac.com', )\n",
      "('noah.ronald.freeman@gmail.com', )\n",
      "('noah@socialfulcrum.com', )\n",
      "('noah_freeman@post.harvard.edu', )\n",
      "('oasiscap@yahoo.com', )\n",
      "('oknishinsky@pwpartners.com', )\n",
      "('parcher@gweiss.com', )\n",
      "('peter.hormick@lehman.com', )\n",
      "('peter.hornick@mlp.com', )\n",
      "('peter.lattman@nytimes.com', )\n",
      "('pkolluri@investcorp.com', )\n",
      "('pkolluri@sterlingrcm.com', )\n",
      "('ppande@zbi.com', )\n",
      "('prashant.kolluri@gmail.com', )\n",
      "('rbabcock@bear.com', )\n",
      "('rdennis@cclp.com', )\n",
      "('rdennis@waddell.com', )\n",
      "('relbilia1@bloomberg.net', )\n",
      "('relbilia@optionsgroup.com', )\n",
      "('res@whitcap.com', )\n",
      "('rfeinblatt@triviumcap.com', )\n",
      "('rknutson@rainmedia.net', )\n",
      "('rob.copeland@wsj.com', )\n",
      "('robert@ameristock.com', )\n",
      "('ron.dennis@crintrinsic.com', )\n",
      "('ron_dennis2001@yahoo.com', )\n",
      "('roomy1@pacbell.net', )\n",
      "('roomy@digitalage-llcs.com', )\n",
      "('ruby@galleongrp.com', )\n",
      "('ryan.elbilia@nomail.com', )\n",
      "('sa@levelglobal.com', )\n",
      "('saggarwal@collinsstewartllc.com', )\n",
      "('sam@baraicapital.com', )\n",
      "('samadondakis@gmail.com', )\n",
      "('sandeepvision@hotmail.com', )\n",
      "('sandy.goyal@nb.com', )\n",
      "('sandy_goyal@prusec.com', )\n",
      "('scott.dragoo@arrowgrass.com', )\n",
      "('sdragoo@fim-group.com', )\n",
      "('sdragoo@fimltd.com', )\n",
      "('sdragoo@ivyasset.com', )\n",
      "('sdragoo@khronos.com', )\n",
      "('sechiasson33@gmail.com', )\n",
      "('sfortuna1@bloomberg.net', )\n",
      "('shahr@jwseligman.com', )\n",
      "('skishan@bloomberg.net', )\n",
      "('skolhatkar@bloomberg.net', )\n",
      "('smaliagros@tigfunds.com', )\n",
      "('solange.frischer@gs.com', )\n",
      "('solange.frischer@ny.email.gs.com', )\n",
      "('solange.frischer@prcm.com', )\n",
      "('sruhle2@bloomberg.net', )\n",
      "('stephanie.ruhle@db.com', )\n",
      "('stephen.foley@ft.com', )\n",
      "('steve.bulko@lombardodier.com', )\n",
      "('steve.fishman@nymag.com', )\n",
      "('steven.bulko@1798.com', )\n",
      "('steven.bulko@lombardodier.com', )\n",
      "('surbhi.mehta@tudor.com', )\n",
      "('susan.pulliam@wsj.com', )\n",
      "('svea.herbst@thomsonreuters.com', )\n",
      "('tai.insight@att.net', )\n",
      "('thardin@camberglobal.com', )\n",
      "('thardin@lanexaglobal.com', )\n",
      "('thomas.geary@citadelgroup.com', )\n",
      "('tnewman@diamondbackcap.com', )\n",
      "('tom.hardin@gmail.com', )\n",
      "('wesleyw@sigmacapny.com', )\n",
      "('weswang@gmail.com', )\n",
      "('whitcap@whitcap.com', )\n"
     ]
    }
   ],
   "source": [
    "for row in cursor:\n",
    "    print(row)"
   ]
  },
  {
   "cell_type": "code",
   "execution_count": null,
   "metadata": {
    "collapsed": true
   },
   "outputs": [],
   "source": []
  }
 ],
 "metadata": {
  "kernelspec": {
   "display_name": "Python 3",
   "language": "python",
   "name": "python3"
  },
  "language_info": {
   "codemirror_mode": {
    "name": "ipython",
    "version": 3
   },
   "file_extension": ".py",
   "mimetype": "text/x-python",
   "name": "python",
   "nbconvert_exporter": "python",
   "pygments_lexer": "ipython3",
   "version": "3.5.2"
  }
 },
 "nbformat": 4,
 "nbformat_minor": 0
}
