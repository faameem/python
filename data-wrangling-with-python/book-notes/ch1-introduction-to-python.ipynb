{
 "cells": [
  {
   "cell_type": "markdown",
   "metadata": {},
   "source": [
    "# Chapter 1. Introduction to Python #\n",
    "\n",
    "Whether you are a journalist, an analyst, or a budding data scientist, essentially, you are trying to tell a story. When you begin the storytelling process, you should focus on researching the questions you want to answer. Then you can figure out which datasets are most valuable to you. In this initial stage, don’t get too caught up in the tools you’ll use to analyze the data or the data wrangling process.\n",
    "\n",
    "+ Identify the topic/question\n",
    "    - Communication habits of people and societies\n",
    "        - What are the qualities of successful information sharing among the people on the web?\n",
    "    - Historical baseball statistics\n",
    "        - Whether they show changes in the game over time?\n",
    "+ Find the data\n",
    "    - Investigate what people share on Twitter (use Twitter API).\n",
    "    - Sean Lahman's baseball database.\n",
    "\n"
   ]
  },
  {
   "cell_type": "code",
   "execution_count": 7,
   "metadata": {
    "collapsed": false
   },
   "outputs": [
    {
     "name": "stdout",
     "output_type": "stream",
     "text": [
      "['',\n",
      " 'C:\\\\Program Files\\\\Anaconda3\\\\python35.zip',\n",
      " 'C:\\\\Program Files\\\\Anaconda3\\\\DLLs',\n",
      " 'C:\\\\Program Files\\\\Anaconda3\\\\lib',\n",
      " 'C:\\\\Program Files\\\\Anaconda3',\n",
      " 'c:\\\\program files\\\\anaconda3\\\\lib\\\\site-packages\\\\setuptools-20.3-py3.5.egg',\n",
      " 'C:\\\\Program Files\\\\Anaconda3\\\\lib\\\\site-packages',\n",
      " 'C:\\\\Program Files\\\\Anaconda3\\\\lib\\\\site-packages\\\\Sphinx-1.3.5-py3.5.egg',\n",
      " 'C:\\\\Program Files\\\\Anaconda3\\\\lib\\\\site-packages\\\\win32',\n",
      " 'C:\\\\Program Files\\\\Anaconda3\\\\lib\\\\site-packages\\\\win32\\\\lib',\n",
      " 'C:\\\\Program Files\\\\Anaconda3\\\\lib\\\\site-packages\\\\Pythonwin',\n",
      " 'C:\\\\Program Files\\\\Anaconda3\\\\lib\\\\site-packages\\\\IPython\\\\extensions',\n",
      " 'C:\\\\Users\\\\FaisalM\\\\.ipython']\n"
     ]
    }
   ],
   "source": [
    "import sys\n",
    "import pprint as pp\n",
    "\n",
    "## show directories where Python will look for Python files\n",
    "pp.pprint(sys.path)\n",
    "\n",
    "## install pip - a command line tool used to manage shared Python code and libraries.\n",
    "## >>> cd ~/Downloads\n",
    "\n",
    "## Because you are running a sudo command (meaning you are using special permissions to run the command\n",
    "## so it can install packages in restricted places), you will be prompted to type in your password.\n",
    "## >>> sudo python get-pip.py\n",
    "## When you use pip, your computer searches PyPI for the specified code package or library, \n",
    "## downloads it to your machine, and installs it.\n",
    "\n",
    "## Python IDEs\n",
    "## 1. Sublime [http://www.sublimetext.com/]\n",
    "## 2. Atom [https://atom.io/]\n"
   ]
  },
  {
   "cell_type": "code",
   "execution_count": null,
   "metadata": {
    "collapsed": true
   },
   "outputs": [],
   "source": []
  },
  {
   "cell_type": "code",
   "execution_count": null,
   "metadata": {
    "collapsed": true
   },
   "outputs": [],
   "source": []
  }
 ],
 "metadata": {
  "kernelspec": {
   "display_name": "Python 3",
   "language": "python",
   "name": "python3"
  },
  "language_info": {
   "codemirror_mode": {
    "name": "ipython",
    "version": 3
   },
   "file_extension": ".py",
   "mimetype": "text/x-python",
   "name": "python",
   "nbconvert_exporter": "python",
   "pygments_lexer": "ipython3",
   "version": "3.5.2"
  }
 },
 "nbformat": 4,
 "nbformat_minor": 0
}
