{
 "cells": [
  {
   "cell_type": "markdown",
   "metadata": {},
   "source": [
    "# Chapter 2. Python Basics #\n",
    "\n",
    "## Basic Data Types ##\n",
    "+ string\n",
    "+ integer\n",
    "+ float\n",
    "+ decimal\n",
    "\n",
    "**Decimal module**\n",
    "Use Decimal module when accuracy matters"
   ]
  },
  {
   "cell_type": "code",
   "execution_count": 6,
   "metadata": {
    "collapsed": false
   },
   "outputs": [
    {
     "name": "stdout",
     "output_type": "stream",
     "text": [
      "regular float: 0.30000000000000004\n",
      "decimal float: 0.30\n"
     ]
    }
   ],
   "source": [
    "print(\"regular float: {0}\".format(0.1+0.2))\n",
    "\n",
    "from decimal import getcontext, Decimal\n",
    "getcontext().prec=2\n",
    "print(\"decimal float: {0}\".format(Decimal(0.1)+Decimal(0.2)))"
   ]
  },
  {
   "cell_type": "markdown",
   "metadata": {},
   "source": [
    "**Python Math Libraries**\n",
    "+ decimal, for fixed-point and floating-point arithmetic\n",
    "+ math, for access to the mathematical functions defined by the C standard\n",
    "+ numpy, a fundamental package for scientific computing in Python\n",
    "+ sympy, a Python library for symbolic mathematics\n",
    "+ mpmath, a Python library for real and complex floating-point arithmetic with arbitrary precision\n",
    "\n",
    "** Python Data Containers **\n",
    "+ variables\n",
    "+ lists\n",
    "+ dictionaries"
   ]
  },
  {
   "cell_type": "code",
   "execution_count": 7,
   "metadata": {
    "collapsed": false
   },
   "outputs": [
    {
     "data": {
      "text/plain": [
       "[['Walter', 'Ra'], ['Joker', 'Simon', 'Ellie', 'Lishka', 'Fido'], ['Mr. Ed']]"
      ]
     },
     "execution_count": 7,
     "metadata": {},
     "output_type": "execute_result"
    }
   ],
   "source": [
    "## list of lists\n",
    "cat_names=['Walter','Ra']\n",
    "dog_names=['Joker','Simon','Ellie','Lishka','Fido']\n",
    "horse_names=['Mr. Ed']\n",
    "animal_names=[cat_names,dog_names,horse_names]\n",
    "animal_names"
   ]
  },
  {
   "cell_type": "code",
   "execution_count": null,
   "metadata": {
    "collapsed": true
   },
   "outputs": [],
   "source": []
  }
 ],
 "metadata": {
  "kernelspec": {
   "display_name": "Python 3",
   "language": "python",
   "name": "python3"
  },
  "language_info": {
   "codemirror_mode": {
    "name": "ipython",
    "version": 3
   },
   "file_extension": ".py",
   "mimetype": "text/x-python",
   "name": "python",
   "nbconvert_exporter": "python",
   "pygments_lexer": "ipython3",
   "version": "3.5.2"
  }
 },
 "nbformat": 4,
 "nbformat_minor": 0
}
