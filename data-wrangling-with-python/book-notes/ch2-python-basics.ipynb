{
 "cells": [
  {
   "cell_type": "markdown",
   "metadata": {},
   "source": [
    "# Chapter 2. Python Basics #\n",
    "\n",
    "## Basic Data Types ##\n",
    "+ string\n",
    "+ integer\n",
    "+ float\n",
    "+ decimal\n",
    "\n",
    "**Decimal module**\n",
    "Use Decimal module when accuracy matters"
   ]
  },
  {
   "cell_type": "code",
   "execution_count": 29,
   "metadata": {
    "collapsed": false
   },
   "outputs": [
    {
     "name": "stdout",
     "output_type": "stream",
     "text": [
      "regular float: 0.30000000000000004\n",
      "decimal float: 0.30\n"
     ]
    }
   ],
   "source": [
    "print(\"regular float: {0}\".format(0.1+0.2))\n",
    "\n",
    "from decimal import getcontext, Decimal\n",
    "getcontext().prec=2\n",
    "print(\"decimal float: {0}\".format(Decimal(0.1)+Decimal(0.2)))"
   ]
  },
  {
   "cell_type": "markdown",
   "metadata": {},
   "source": [
    "**Python Math Libraries**\n",
    "+ decimal, for fixed-point and floating-point arithmetic\n",
    "+ math, for access to the mathematical functions defined by the C standard\n",
    "+ numpy, a fundamental package for scientific computing in Python\n",
    "+ sympy, a Python library for symbolic mathematics\n",
    "+ mpmath, a Python library for real and complex floating-point arithmetic with arbitrary precision\n",
    "\n",
    "** Python Data Containers **\n",
    "+ variables\n",
    "+ lists []\n",
    "+ dictionaries {}"
   ]
  },
  {
   "cell_type": "code",
   "execution_count": 30,
   "metadata": {
    "collapsed": false
   },
   "outputs": [
    {
     "data": {
      "text/plain": [
       "[['Walter', 'Ra'], ['Joker', 'Simon', 'Ellie', 'Lishka', 'Fido'], ['Mr. Ed']]"
      ]
     },
     "execution_count": 30,
     "metadata": {},
     "output_type": "execute_result"
    }
   ],
   "source": [
    "## list of lists\n",
    "cat_names=['Walter','Ra']\n",
    "dog_names=['Joker','Simon','Ellie','Lishka','Fido']\n",
    "horse_names=['Mr. Ed']\n",
    "animal_names=[cat_names,dog_names,horse_names]\n",
    "animal_names"
   ]
  },
  {
   "cell_type": "code",
   "execution_count": 31,
   "metadata": {
    "collapsed": false
   },
   "outputs": [
    {
     "data": {
      "text/plain": [
       "{'cats': ['Walter', 'Ra'],\n",
       " 'dogs': ['Joker', 'Simon', 'Ellie', 'Lishka', 'Fido'],\n",
       " 'horses': ['Mr. Ed']}"
      ]
     },
     "execution_count": 31,
     "metadata": {},
     "output_type": "execute_result"
    }
   ],
   "source": [
    "## dictionary of lists\n",
    "dict_animal_names={'cats':cat_names,\n",
    "                   'dogs':dog_names,\n",
    "                   'horses':horse_names}\n",
    "dict_animal_names"
   ]
  },
  {
   "cell_type": "code",
   "execution_count": 32,
   "metadata": {
    "collapsed": false
   },
   "outputs": [
    {
     "name": "stdout",
     "output_type": "stream",
     "text": [
      "filename with spaces:           budget.csv               \n",
      "filename.strip():budget.csv\n",
      "filename.upper():BUDGET.CSV\n"
     ]
    }
   ],
   "source": [
    "## string methods\n",
    "filename=\"           budget.csv               \"\n",
    "print(\"filename with spaces:{0}\".format(filename))\n",
    "\n",
    "filename=filename.strip()\n",
    "print(\"filename.strip():{0}\".format(filename))\n",
    "\n",
    "filename=filename.upper()\n",
    "print(\"filename.upper():{0}\".format(filename))\n"
   ]
  },
  {
   "cell_type": "code",
   "execution_count": 33,
   "metadata": {
    "collapsed": false
   },
   "outputs": [
    {
     "name": "stdout",
     "output_type": "stream",
     "text": [
      "dog_names empty:[]\n",
      "dog_names:['Joker']\n",
      "dog_names:['Joker', 'Simon', 'Ellie', 'Lishka', 'Turtle']\n",
      "dog_names:['Joker', 'Simon', 'Ellie', 'Lishka', 'Turtle', 'Walter']\n",
      "dog_names:['Joker', 'Simon', 'Ellie', 'Lishka', 'Turtle']\n"
     ]
    }
   ],
   "source": [
    "## lists\n",
    "dog_names=[]\n",
    "print(\"dog_names empty:{0}\".format(dog_names))\n",
    "dog_names.append(\"Joker\")\n",
    "print(\"dog_names:{0}\".format(dog_names))\n",
    "dog_names=dog_names+['Simon', 'Ellie', 'Lishka', 'Turtle']\n",
    "print(\"dog_names:{0}\".format(dog_names))\n",
    "dog_names.append(\"Walter\") ## cat name\n",
    "print(\"dog_names:{0}\".format(dog_names))\n",
    "dog_names.remove(\"Walter\")\n",
    "print(\"dog_names:{0}\".format(dog_names))"
   ]
  },
  {
   "cell_type": "code",
   "execution_count": 36,
   "metadata": {
    "collapsed": false
   },
   "outputs": [
    {
     "name": "stdout",
     "output_type": "stream",
     "text": [
      "type(joker):\n",
      "<class 'str'>\n",
      "\n",
      "dir(joker):\n",
      "['__add__', '__class__', '__contains__', '__delattr__', '__dir__', '__doc__', '__eq__', '__format__', '__ge__', '__getattribute__', '__getitem__', '__getnewargs__', '__gt__', '__hash__', '__init__', '__iter__', '__le__', '__len__', '__lt__', '__mod__', '__mul__', '__ne__', '__new__', '__reduce__', '__reduce_ex__', '__repr__', '__rmod__', '__rmul__', '__setattr__', '__sizeof__', '__str__', '__subclasshook__', 'capitalize', 'casefold', 'center', 'count', 'encode', 'endswith', 'expandtabs', 'find', 'format', 'format_map', 'index', 'isalnum', 'isalpha', 'isdecimal', 'isdigit', 'isidentifier', 'islower', 'isnumeric', 'isprintable', 'isspace', 'istitle', 'isupper', 'join', 'ljust', 'lower', 'lstrip', 'maketrans', 'partition', 'replace', 'rfind', 'rindex', 'rjust', 'rpartition', 'rsplit', 'rstrip', 'split', 'splitlines', 'startswith', 'strip', 'swapcase', 'title', 'translate', 'upper', 'zfill']\n",
      "\n",
      "Help on built-in function strip:\n",
      "\n",
      "strip(...) method of builtins.str instance\n",
      "    S.strip([chars]) -> str\n",
      "    \n",
      "    Return a copy of the string S with leading and trailing\n",
      "    whitespace removed.\n",
      "    If chars is given and not None, remove characters in chars instead.\n",
      "\n"
     ]
    }
   ],
   "source": [
    "## some useful methods\n",
    "joker=\"Joker\"\n",
    "print(\"type(joker):\\n{0}\\n\".format(type(joker)))\n",
    "print(\"dir(joker):\\n{0}\\n\".format(dir(joker)))\n",
    "help(joker.strip)"
   ]
  },
  {
   "cell_type": "code",
   "execution_count": null,
   "metadata": {
    "collapsed": true
   },
   "outputs": [],
   "source": []
  }
 ],
 "metadata": {
  "kernelspec": {
   "display_name": "Python 3",
   "language": "python",
   "name": "python3"
  },
  "language_info": {
   "codemirror_mode": {
    "name": "ipython",
    "version": 3
   },
   "file_extension": ".py",
   "mimetype": "text/x-python",
   "name": "python",
   "nbconvert_exporter": "python",
   "pygments_lexer": "ipython3",
   "version": "3.5.2"
  }
 },
 "nbformat": 4,
 "nbformat_minor": 0
}
